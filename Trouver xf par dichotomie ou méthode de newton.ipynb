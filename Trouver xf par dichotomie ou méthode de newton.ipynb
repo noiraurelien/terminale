{
 "cells": [
  {
   "cell_type": "markdown",
   "metadata": {
    "id": "chNYu31ReQdI"
   },
   "source": [
    "#**Composition d'un système à l'état final**\n",
    "\n",
    "##Objectif : déterminer l'avancement à l'équilibre dans le cas d'une transformation modélisée par une unique réaction.\n",
    "\n",
    "###*Import des bibiothèques*\n",
    "\n",
    "* Importer le module `math` pour faire des opérations mathématiques de base ;\n",
    "\n",
    "* importer `scipy.optimize` qui est une bibliothèque permettant de faire un certain nombre de calculs et de résoudre également des équations.\n",
    "\n",
    "###*Méthode de dichotomie*\n",
    "\n",
    "* Soit $f$ une fonction continue et monotone sur $[a,b]$ ; On cherche une valeur de $x$ notée $x_{e}$ qui annule la fonction $f$ dans cet intervalle à epsilon près ;\n",
    "\n",
    "* On appelle c le milieu de l'intervalle $[a,b]$ et on cherche dans quelle moitié de l'intervalle se trouve la solution et ainsi de suite ; on crée une boucle jusqu'à trouver le plus petit intervalle (à epsilon près) auquel appartient $x_{e}$.\n",
    "\n",
    "* Auparavant, il faut réécrire l'équation de Gulberg et Waage sous la forme $f(x_e)=0$. Les bornes a et b sont choisies assez simplement puisque l'avancement est borné (ici $0 \\leq x_e \\leq x_{max}$). Pour la précision, on prend $\\epsilon=1\\cdot 10^{-10} \\, mol L^{-1}$.\n"
   ]
  },
  {
   "cell_type": "code",
   "execution_count": 5,
   "metadata": {
    "colab": {
     "base_uri": "https://localhost:8080/"
    },
    "id": "4plvV77raid3",
    "outputId": "41115157-52ed-4700-c291-84bf19c1c702"
   },
   "outputs": [
    {
     "name": "stdout",
     "output_type": "stream",
     "text": [
      "Avancement équilibre x_e= 0.0036427912 mol L^-1\n"
     ]
    }
   ],
   "source": [
    "#Renseigner les paramètres du problème\n",
    "\n",
    "K=10**(8)                  #Constante d'équilibre thermodynamique \n",
    "\n",
    "#importation des bibliothèques\n",
    "from math import *\n",
    "import numpy as np\n",
    "\n",
    "def f(x):\n",
    "  return -1+K*(0.005-x)*(0.010-2*x)**2     #Réécriture de l'équation issue de la relation de Guldberg et Waage\n",
    "\n",
    "#recherche des solutions d'une équation par dichotomie\n",
    "\n",
    "def dichotomie(f,a,b,epsilon):\n",
    "  if f(a)*f(b)>0:\n",
    "    return None\n",
    "  else:\n",
    "    while (b-a)>=epsilon:\n",
    "      c=(a+b)/2\n",
    "      if f(b)*f(c)<=0:\n",
    "        a=c\n",
    "      else:\n",
    "        b=c\n",
    "    return c\n",
    "x_e = dichotomie(f,0,0.05,1E-10)\n",
    "print('Avancement équilibre x_e=',round(x_e,10), 'mol L^-1')"
   ]
  },
  {
   "cell_type": "markdown",
   "metadata": {
    "id": "qM10ipQArvut"
   },
   "source": [
    "###*Méthode de Newton*\n",
    "\n",
    "* On souhaite approcher la solution d'une équation de la forme $f(x) = 0$ selon la méthode de Newton. Pour cela, on considère le développement de Taylor de la fonction $f$ au premier ordre et on approche la fonction par sa tangente.\n",
    "\n",
    "* On considère un point d'abscisse $x_0$ de l'intervalle de définition de $f$ proche du zéro à trouver. La tangente à la courbe représentative de $f$ en ce point a pour équation $y = f(x_0) + (x - x_0)f'(x_0)$.\n",
    "\n",
    "* En supposant $f'(x) \\ne 0$, cette tangente coupe l'axe des abscisses en $x_1 = x_0 - \\dfrac{f(x_0)}{f'(x_0)}$. Il est raisonnable de penser que  $x_1$ est beaucoup plus proche de la solution recherchée que $x_0$.\n",
    "\n",
    "* On réitère ainsi le procédé à partir de $x_1$ ce qui permet de construire, par récurrence, une suite $x_n$ telle que $x_{n+1}=x_n- \\dfrac{f(x_n)}{f'(x_n)}$.\n",
    "\n",
    "* La suite $x_n$ converge vers la solution de $f(x)=0$ (sauf si $x_n$ n'appartient pas au domaine de définition de $f$ ou si la dérivée $f'(x_n)$ est nulle.) La figure ci-dessous illustre la méthode de Newton.\n",
    "\n",
    "![image.png](data:image/png;base64,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)"
   ]
  },
  {
   "cell_type": "code",
   "execution_count": 4,
   "metadata": {
    "colab": {
     "base_uri": "https://localhost:8080/"
    },
    "id": "lOHqKb0R5t7R",
    "outputId": "10b48121-9a42-4df3-ae49-6c74e7be6720"
   },
   "outputs": [
    {
     "name": "stdout",
     "output_type": "stream",
     "text": [
      "avancement équilibre x_e= 0.0036 mol L^-1\n"
     ]
    }
   ],
   "source": [
    "#Renseigner les paramètres du problème\n",
    "\n",
    "K=10**(8)                  #Constante d'équilibre thermodynamique ; ici la constante choisie est celle de la réaction de CH3COOH avec l'eau ;\n",
    "\n",
    "#importation des bibliothèques\n",
    "from math import *\n",
    "import numpy as np\n",
    "\n",
    "def f(x):\n",
    "  return K*(0.005-x)*(0.010-2*x)**2-1     #Réécriture de l'équation issue de la relation de Guldberg et Waag\n",
    "\n",
    "def Newton(f,x0,epsilon1=1e-10,h=1e-5):\n",
    "  x = x0                                      #Initialisation\n",
    "  while abs(f(x)) > epsilon1:                 #Tant que |f(x)| > epsilon choisi\n",
    "    df = (f(x+h) - f(x)) / h                  #df est la dérivée de la fonction f en x_n par taux d’accroissement\n",
    "    x = x - f(x)/df                           #nouvelle valeur x_{n+1} de x\n",
    "  return x\n",
    "x_e = Newton(f,0,1e-10,1e-4)\n",
    "print('avancement équilibre x_e=',round(x_e,4), 'mol L^-1')"
   ]
  }
 ],
 "metadata": {
  "colab": {
   "provenance": []
  },
  "kernelspec": {
   "display_name": "Python 3",
   "language": "python",
   "name": "python3"
  },
  "language_info": {
   "codemirror_mode": {
    "name": "ipython",
    "version": 3
   },
   "file_extension": ".py",
   "mimetype": "text/x-python",
   "name": "python",
   "nbconvert_exporter": "python",
   "pygments_lexer": "ipython3",
   "version": "3.8.3"
  }
 },
 "nbformat": 4,
 "nbformat_minor": 1
}
